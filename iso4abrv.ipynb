{
 "cells": [
  {
   "cell_type": "code",
   "execution_count": 60,
   "metadata": {},
   "outputs": [],
   "source": [
    "import bibtexparser\n",
    "from iso4 import abbreviate\n",
    "import nltk\n",
    "\n",
    "import re"
   ]
  },
  {
   "cell_type": "code",
   "execution_count": 61,
   "metadata": {},
   "outputs": [
    {
     "name": "stderr",
     "output_type": "stream",
     "text": [
      "[nltk_data] Downloading package wordnet to /home/inon/nltk_data...\n",
      "[nltk_data]   Package wordnet is already up-to-date!\n"
     ]
    },
    {
     "data": {
      "text/plain": [
       "True"
      ]
     },
     "execution_count": 61,
     "metadata": {},
     "output_type": "execute_result"
    }
   ],
   "source": [
    "nltk.download('wordnet')"
   ]
  },
  {
   "cell_type": "code",
   "execution_count": 62,
   "metadata": {},
   "outputs": [
    {
     "data": {
      "text/plain": [
       "'Accid. Anal. Prev.'"
      ]
     },
     "execution_count": 62,
     "metadata": {},
     "output_type": "execute_result"
    }
   ],
   "source": [
    "def _abrv(full):\n",
    "    return re.sub(pattern=r'\\s+', \n",
    "                  repl=' ', \n",
    "                  string=abbreviate(full))\n",
    "\n",
    "# Example\n",
    "_abrv('Accident Analysis \\\\& Prevention')"
   ]
  },
  {
   "cell_type": "code",
   "execution_count": 63,
   "metadata": {},
   "outputs": [
    {
     "data": {
      "text/plain": [
       "'AAP'"
      ]
     },
     "execution_count": 63,
     "metadata": {},
     "output_type": "execute_result"
    }
   ],
   "source": [
    "def _to_bibkey(full):\n",
    "    return ''.join(\n",
    "        filter(str.isalnum,\n",
    "               map(lambda word: word[0].upper(), _abrv(full=full).split(' '))\n",
    "              )\n",
    "    )\n",
    "\n",
    "# Example\n",
    "_to_bibkey(full='Accident Analysis \\\\& Prevention')"
   ]
  },
  {
   "cell_type": "code",
   "execution_count": 64,
   "metadata": {},
   "outputs": [
    {
     "data": {
      "text/plain": [
       "['Accident Analysis \\\\& Prevention',\n",
       " 'Water resources research',\n",
       " 'Journal of the Royal Statistical Society: Series B (Methodological)']"
      ]
     },
     "execution_count": 64,
     "metadata": {},
     "output_type": "execute_result"
    }
   ],
   "source": [
    "def _get_journals(bibtex_references_as_string):\n",
    "    return frozenset(map(\n",
    "        lambda entry: entry['journal'], \n",
    "        filter(lambda entry: 'journal' in entry, \n",
    "               bibtexparser.loads(bibtex_references_as_string).entries)))\n",
    "\n",
    "\n",
    "# Example\n",
    "list(\n",
    "    _get_journals(bibtex_references_as_string=open('ref.bib').read())\n",
    ")[:3]"
   ]
  },
  {
   "cell_type": "code",
   "execution_count": 69,
   "metadata": {},
   "outputs": [
    {
     "data": {
      "text/plain": [
       "[('Accident Analysis \\\\& Prevention',\n",
       "  {'bibkey': 'AAP', 'abrv': 'Accid. Anal. Prev.'}),\n",
       " ('Water resources research', {'bibkey': 'WRR', 'abrv': 'Water resour. res.'}),\n",
       " ('Journal of the Royal Statistical Society: Series B (Methodological)',\n",
       "  {'bibkey': 'JRSSSB', 'abrv': 'J. R. Stat. Soc. Ser. B (methodological'})]"
      ]
     },
     "execution_count": 69,
     "metadata": {},
     "output_type": "execute_result"
    }
   ],
   "source": [
    "def _journals_to_bib(bibtex_references_as_string):\n",
    "    return dict(map(\n",
    "        lambda full: (full, {'bibkey': _to_bibkey(full), 'abrv': _abrv(full)}),\n",
    "        _get_journals(bibtex_references_as_string)\n",
    "        )\n",
    "    )\n",
    "\n",
    "# Example\n",
    "list(\n",
    "    _journals_to_bib(bibtex_references_as_string=open('ref.bib').read()).items()\n",
    ")[:3]"
   ]
  },
  {
   "cell_type": "code",
   "execution_count": 115,
   "metadata": {},
   "outputs": [],
   "source": [
    "def _to_bibstring(bibkey, value):\n",
    "    return '@STRING{%s = \"%s\"}' % (bibkey, value)"
   ]
  },
  {
   "cell_type": "code",
   "execution_count": 117,
   "metadata": {},
   "outputs": [],
   "source": [
    "def iso4abrv(bibtex_references_as_string, out_dir):\n",
    "    parsed = bibtexparser.loads(bibtex_references_as_string)\n",
    "    mapping = _journals_to_bib(bibtex_references_as_string=bibtex_references_as_string)\n",
    "    for entry in filter(lambda entry: 'journal' in entry, parsed.entries):\n",
    "        entry['journal'] = mapping[entry['journal']]['bibkey']\n",
    "    abbreviated = bibtexparser.dumps(parsed)\n",
    "    with open('abbrvref.bib', 'w') as outref_f,\\\n",
    "        open('jourabrv.bib', 'w') as outabrv_f,\\\n",
    "        open('jourfull.bib', 'w') as outfull_f:\n",
    "            outref_f.write(\n",
    "                re.sub(pattern=r'journal\\s+=\\s+[{]([^}]*)[}]', \n",
    "                       repl=r'journal = \\1', \n",
    "                       string=abbreviated))\n",
    "            outabrv_f.write('\\n'.join(map(\n",
    "                lambda full: _to_bibstring(mapping[full]['bibkey'], mapping[full]['abrv']),\n",
    "                mapping\n",
    "            )))\n",
    "            outfull_f.write('\\n'.join(map(\n",
    "                lambda full: _to_bibstring(mapping[full]['bibkey'], full),\n",
    "                mapping\n",
    "            )))            \n",
    "\n",
    "\n",
    "iso4abrv(bibtex_references_as_string=open('ref.bib').read(),\n",
    "         out_dir='.')"
   ]
  }
 ],
 "metadata": {
  "kernelspec": {
   "display_name": "Python 3",
   "language": "python",
   "name": "python3"
  },
  "language_info": {
   "codemirror_mode": {
    "name": "ipython",
    "version": 3
   },
   "file_extension": ".py",
   "mimetype": "text/x-python",
   "name": "python",
   "nbconvert_exporter": "python",
   "pygments_lexer": "ipython3",
   "version": "3.6.8"
  }
 },
 "nbformat": 4,
 "nbformat_minor": 2
}
